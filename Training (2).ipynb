{
  "nbformat": 4,
  "nbformat_minor": 0,
  "metadata": {
    "colab": {
      "name": "Training.ipynb",
      "provenance": []
    },
    "kernelspec": {
      "name": "python3",
      "display_name": "Python 3"
    }
  },
  "cells": [
    {
      "cell_type": "code",
      "metadata": {
        "id": "jerf39gYMwuC",
        "colab_type": "code",
        "colab": {}
      },
      "source": [
        "!pip install --user -r requirements.txt"
      ],
      "execution_count": null,
      "outputs": []
    },
    {
      "cell_type": "code",
      "metadata": {
        "id": "QaK6wkRfeLfj",
        "colab_type": "code",
        "colab": {}
      },
      "source": [
        "import tensorflow as tf\n",
        "import pandas as pd\n",
        "import numpy as np\n",
        "import matplotlib.pyplot as plt\n",
        "import sklearn as sl\n",
        "from tensorflow import keras\n",
        "from sklearn.metrics import accuracy_score, classification_report, confusion_matrix,plot_confusion_matrix\n",
        "from sklearn.compose import ColumnTransformer\n",
        "from sklearn.ensemble import RandomForestClassifier\n",
        "from sklearn.tree import DecisionTreeRegressor, DecisionTreeClassifier\n",
        "import sklearn.metrics as metrics\n",
        "\n",
        "# fa i modo che i numeri siano più leggibili.\n",
        "np.set_printoptions(precision=3, suppress=True)\n",
        "\n",
        "train_file_path =  \"./train.csv\"\n",
        "test_file_path = \"./test.csv\"\n",
        "\n",
        "train_df = pd.read_csv(train_file_path)\n",
        "#train_df.dtypes\n",
        "test_df = pd.read_csv(test_file_path)\n",
        "#test_df.dtypes"
      ],
      "execution_count": 24,
      "outputs": []
    },
    {
      "cell_type": "markdown",
      "metadata": {
        "id": "I5CgZCWJeuLE",
        "colab_type": "text"
      },
      "source": [
        "Eliminazione di valori Nan per il train"
      ]
    },
    {
      "cell_type": "code",
      "metadata": {
        "id": "DqyrC0lRf61Z",
        "colab_type": "code",
        "colab": {
          "base_uri": "https://localhost:8080/",
          "height": 204
        },
        "outputId": "f49f765a-f8f8-4b7c-8c7b-dda346b048e9"
      },
      "source": [
        "# Sostituisco ad ogni stringa vuota il valore 'NaN'\n",
        "train_df.replace(\"\", np.nan, inplace=True)\n",
        "train_df.replace(\" \", np.nan, inplace=True)\n",
        "train_df.replace(\"?\", np.nan, inplace=True)\n",
        "train_df.head()"
      ],
      "execution_count": 25,
      "outputs": [
        {
          "output_type": "execute_result",
          "data": {
            "text/html": [
              "<div>\n",
              "<style scoped>\n",
              "    .dataframe tbody tr th:only-of-type {\n",
              "        vertical-align: middle;\n",
              "    }\n",
              "\n",
              "    .dataframe tbody tr th {\n",
              "        vertical-align: top;\n",
              "    }\n",
              "\n",
              "    .dataframe thead th {\n",
              "        text-align: right;\n",
              "    }\n",
              "</style>\n",
              "<table border=\"1\" class=\"dataframe\">\n",
              "  <thead>\n",
              "    <tr style=\"text-align: right;\">\n",
              "      <th></th>\n",
              "      <th>DEATH_EVENT</th>\n",
              "      <th>age</th>\n",
              "      <th>anaemia</th>\n",
              "      <th>creatinine_phosphokinase</th>\n",
              "      <th>diabetes</th>\n",
              "      <th>ejection_fraction</th>\n",
              "      <th>high_blood_pressure</th>\n",
              "      <th>platelets</th>\n",
              "      <th>serum_creatinine</th>\n",
              "      <th>serum_sodium</th>\n",
              "      <th>sex</th>\n",
              "      <th>smoking</th>\n",
              "      <th>time</th>\n",
              "    </tr>\n",
              "  </thead>\n",
              "  <tbody>\n",
              "    <tr>\n",
              "      <th>0</th>\n",
              "      <td>1</td>\n",
              "      <td>75.0</td>\n",
              "      <td>1</td>\n",
              "      <td>81</td>\n",
              "      <td>0</td>\n",
              "      <td>38</td>\n",
              "      <td>1</td>\n",
              "      <td>368000.0</td>\n",
              "      <td>4.0</td>\n",
              "      <td>131</td>\n",
              "      <td>1</td>\n",
              "      <td>1</td>\n",
              "      <td>10</td>\n",
              "    </tr>\n",
              "    <tr>\n",
              "      <th>1</th>\n",
              "      <td>0</td>\n",
              "      <td>50.0</td>\n",
              "      <td>0</td>\n",
              "      <td>1548</td>\n",
              "      <td>0</td>\n",
              "      <td>30</td>\n",
              "      <td>1</td>\n",
              "      <td>211000.0</td>\n",
              "      <td>0.8</td>\n",
              "      <td>138</td>\n",
              "      <td>1</td>\n",
              "      <td>0</td>\n",
              "      <td>108</td>\n",
              "    </tr>\n",
              "    <tr>\n",
              "      <th>2</th>\n",
              "      <td>0</td>\n",
              "      <td>58.0</td>\n",
              "      <td>1</td>\n",
              "      <td>133</td>\n",
              "      <td>0</td>\n",
              "      <td>60</td>\n",
              "      <td>1</td>\n",
              "      <td>219000.0</td>\n",
              "      <td>1.0</td>\n",
              "      <td>141</td>\n",
              "      <td>1</td>\n",
              "      <td>0</td>\n",
              "      <td>83</td>\n",
              "    </tr>\n",
              "    <tr>\n",
              "      <th>3</th>\n",
              "      <td>1</td>\n",
              "      <td>75.0</td>\n",
              "      <td>0</td>\n",
              "      <td>582</td>\n",
              "      <td>0</td>\n",
              "      <td>20</td>\n",
              "      <td>1</td>\n",
              "      <td>265000.0</td>\n",
              "      <td>1.9</td>\n",
              "      <td>130</td>\n",
              "      <td>1</td>\n",
              "      <td>0</td>\n",
              "      <td>4</td>\n",
              "    </tr>\n",
              "    <tr>\n",
              "      <th>4</th>\n",
              "      <td>1</td>\n",
              "      <td>80.0</td>\n",
              "      <td>1</td>\n",
              "      <td>553</td>\n",
              "      <td>0</td>\n",
              "      <td>20</td>\n",
              "      <td>1</td>\n",
              "      <td>140000.0</td>\n",
              "      <td>4.4</td>\n",
              "      <td>133</td>\n",
              "      <td>1</td>\n",
              "      <td>0</td>\n",
              "      <td>41</td>\n",
              "    </tr>\n",
              "  </tbody>\n",
              "</table>\n",
              "</div>"
            ],
            "text/plain": [
              "   DEATH_EVENT   age  anaemia  ...  sex  smoking  time\n",
              "0            1  75.0        1  ...    1        1    10\n",
              "1            0  50.0        0  ...    1        0   108\n",
              "2            0  58.0        1  ...    1        0    83\n",
              "3            1  75.0        0  ...    1        0     4\n",
              "4            1  80.0        1  ...    1        0    41\n",
              "\n",
              "[5 rows x 13 columns]"
            ]
          },
          "metadata": {
            "tags": []
          },
          "execution_count": 25
        }
      ]
    },
    {
      "cell_type": "markdown",
      "metadata": {
        "id": "h3-rAXLef_Fe",
        "colab_type": "text"
      },
      "source": [
        "Controllo se ci sono effettivamente valori Nan nel dataset train"
      ]
    },
    {
      "cell_type": "code",
      "metadata": {
        "id": "qEbAM1nggHmf",
        "colab_type": "code",
        "colab": {
          "base_uri": "https://localhost:8080/",
          "height": 255
        },
        "outputId": "eae64405-9a8b-43bd-bb07-5490f3ec356e"
      },
      "source": [
        "train_df.isna().sum()"
      ],
      "execution_count": 26,
      "outputs": [
        {
          "output_type": "execute_result",
          "data": {
            "text/plain": [
              "DEATH_EVENT                 0\n",
              "age                         0\n",
              "anaemia                     0\n",
              "creatinine_phosphokinase    0\n",
              "diabetes                    0\n",
              "ejection_fraction           0\n",
              "high_blood_pressure         0\n",
              "platelets                   0\n",
              "serum_creatinine            0\n",
              "serum_sodium                0\n",
              "sex                         0\n",
              "smoking                     0\n",
              "time                        0\n",
              "dtype: int64"
            ]
          },
          "metadata": {
            "tags": []
          },
          "execution_count": 26
        }
      ]
    },
    {
      "cell_type": "markdown",
      "metadata": {
        "id": "shzHTyoKgQAS",
        "colab_type": "text"
      },
      "source": [
        "Eliminazione di valori Nan per il test"
      ]
    },
    {
      "cell_type": "code",
      "metadata": {
        "id": "sA-2jr96gOdm",
        "colab_type": "code",
        "colab": {
          "base_uri": "https://localhost:8080/",
          "height": 204
        },
        "outputId": "116ddd9f-5885-45d3-ea01-7185a68e55c3"
      },
      "source": [
        "# Sostituisco ad ogni stringa vuota il valore 'NaN'\n",
        "test_df.replace(\"\", np.nan, inplace=True)\n",
        "test_df.replace(\" \", np.nan, inplace=True)\n",
        "test_df.replace(\"?\", np.nan, inplace=True)\n",
        "test_df.head()"
      ],
      "execution_count": 27,
      "outputs": [
        {
          "output_type": "execute_result",
          "data": {
            "text/html": [
              "<div>\n",
              "<style scoped>\n",
              "    .dataframe tbody tr th:only-of-type {\n",
              "        vertical-align: middle;\n",
              "    }\n",
              "\n",
              "    .dataframe tbody tr th {\n",
              "        vertical-align: top;\n",
              "    }\n",
              "\n",
              "    .dataframe thead th {\n",
              "        text-align: right;\n",
              "    }\n",
              "</style>\n",
              "<table border=\"1\" class=\"dataframe\">\n",
              "  <thead>\n",
              "    <tr style=\"text-align: right;\">\n",
              "      <th></th>\n",
              "      <th>DEATH_EVENT</th>\n",
              "      <th>age</th>\n",
              "      <th>anaemia</th>\n",
              "      <th>creatinine_phosphokinase</th>\n",
              "      <th>diabetes</th>\n",
              "      <th>ejection_fraction</th>\n",
              "      <th>high_blood_pressure</th>\n",
              "      <th>platelets</th>\n",
              "      <th>serum_creatinine</th>\n",
              "      <th>serum_sodium</th>\n",
              "      <th>sex</th>\n",
              "      <th>smoking</th>\n",
              "      <th>time</th>\n",
              "    </tr>\n",
              "  </thead>\n",
              "  <tbody>\n",
              "    <tr>\n",
              "      <th>0</th>\n",
              "      <td>1</td>\n",
              "      <td>65.0</td>\n",
              "      <td>1</td>\n",
              "      <td>128</td>\n",
              "      <td>1</td>\n",
              "      <td>30</td>\n",
              "      <td>1</td>\n",
              "      <td>297000.0</td>\n",
              "      <td>1.6</td>\n",
              "      <td>136</td>\n",
              "      <td>0</td>\n",
              "      <td>0</td>\n",
              "      <td>20</td>\n",
              "    </tr>\n",
              "    <tr>\n",
              "      <th>1</th>\n",
              "      <td>0</td>\n",
              "      <td>50.0</td>\n",
              "      <td>0</td>\n",
              "      <td>185</td>\n",
              "      <td>0</td>\n",
              "      <td>30</td>\n",
              "      <td>0</td>\n",
              "      <td>266000.0</td>\n",
              "      <td>0.7</td>\n",
              "      <td>141</td>\n",
              "      <td>1</td>\n",
              "      <td>1</td>\n",
              "      <td>112</td>\n",
              "    </tr>\n",
              "    <tr>\n",
              "      <th>2</th>\n",
              "      <td>1</td>\n",
              "      <td>80.0</td>\n",
              "      <td>0</td>\n",
              "      <td>776</td>\n",
              "      <td>1</td>\n",
              "      <td>38</td>\n",
              "      <td>1</td>\n",
              "      <td>192000.0</td>\n",
              "      <td>1.3</td>\n",
              "      <td>135</td>\n",
              "      <td>0</td>\n",
              "      <td>0</td>\n",
              "      <td>130</td>\n",
              "    </tr>\n",
              "    <tr>\n",
              "      <th>3</th>\n",
              "      <td>0</td>\n",
              "      <td>40.0</td>\n",
              "      <td>0</td>\n",
              "      <td>244</td>\n",
              "      <td>0</td>\n",
              "      <td>45</td>\n",
              "      <td>1</td>\n",
              "      <td>275000.0</td>\n",
              "      <td>0.9</td>\n",
              "      <td>140</td>\n",
              "      <td>0</td>\n",
              "      <td>0</td>\n",
              "      <td>174</td>\n",
              "    </tr>\n",
              "    <tr>\n",
              "      <th>4</th>\n",
              "      <td>0</td>\n",
              "      <td>60.0</td>\n",
              "      <td>1</td>\n",
              "      <td>737</td>\n",
              "      <td>0</td>\n",
              "      <td>60</td>\n",
              "      <td>1</td>\n",
              "      <td>210000.0</td>\n",
              "      <td>1.5</td>\n",
              "      <td>135</td>\n",
              "      <td>1</td>\n",
              "      <td>1</td>\n",
              "      <td>95</td>\n",
              "    </tr>\n",
              "  </tbody>\n",
              "</table>\n",
              "</div>"
            ],
            "text/plain": [
              "   DEATH_EVENT   age  anaemia  ...  sex  smoking  time\n",
              "0            1  65.0        1  ...    0        0    20\n",
              "1            0  50.0        0  ...    1        1   112\n",
              "2            1  80.0        0  ...    0        0   130\n",
              "3            0  40.0        0  ...    0        0   174\n",
              "4            0  60.0        1  ...    1        1    95\n",
              "\n",
              "[5 rows x 13 columns]"
            ]
          },
          "metadata": {
            "tags": []
          },
          "execution_count": 27
        }
      ]
    },
    {
      "cell_type": "markdown",
      "metadata": {
        "id": "mZ3IkbCmgbbz",
        "colab_type": "text"
      },
      "source": [
        "Ricontrollo se ci sono effettivamente valori Nan nel dataset test"
      ]
    },
    {
      "cell_type": "code",
      "metadata": {
        "id": "wQtjWclAgcMv",
        "colab_type": "code",
        "colab": {
          "base_uri": "https://localhost:8080/",
          "height": 255
        },
        "outputId": "3f10a224-5c53-44af-e3bb-5500532390db"
      },
      "source": [
        "test_df.isna().sum()"
      ],
      "execution_count": 28,
      "outputs": [
        {
          "output_type": "execute_result",
          "data": {
            "text/plain": [
              "DEATH_EVENT                 0\n",
              "age                         0\n",
              "anaemia                     0\n",
              "creatinine_phosphokinase    0\n",
              "diabetes                    0\n",
              "ejection_fraction           0\n",
              "high_blood_pressure         0\n",
              "platelets                   0\n",
              "serum_creatinine            0\n",
              "serum_sodium                0\n",
              "sex                         0\n",
              "smoking                     0\n",
              "time                        0\n",
              "dtype: int64"
            ]
          },
          "metadata": {
            "tags": []
          },
          "execution_count": 28
        }
      ]
    },
    {
      "cell_type": "markdown",
      "metadata": {
        "id": "G6MoU5esgxRM",
        "colab_type": "text"
      },
      "source": [
        "Eliminazione valori Nan"
      ]
    },
    {
      "cell_type": "code",
      "metadata": {
        "id": "Y5b3HIpBgxs1",
        "colab_type": "code",
        "colab": {}
      },
      "source": [
        "# Procediamo con l'eliminazione dei dati non validi (NaN)\n",
        "test_df.dropna(inplace=True)\n",
        "train_df.dropna(inplace=True)"
      ],
      "execution_count": 29,
      "outputs": []
    },
    {
      "cell_type": "markdown",
      "metadata": {
        "id": "9_isGTX4g7Sg",
        "colab_type": "text"
      },
      "source": [
        "Conversione stringhe a float train.csv"
      ]
    },
    {
      "cell_type": "code",
      "metadata": {
        "id": "IKmAiks4g75-",
        "colab_type": "code",
        "colab": {
          "base_uri": "https://localhost:8080/",
          "height": 204
        },
        "outputId": "97a64956-7b75-441f-bb90-e04ba992960a"
      },
      "source": [
        "\n",
        "#tutte le colonne che contengono stringhe devono essere trasformate in colonne che contengono interi \n",
        "for elemento in train_df:\n",
        "  if elemento==\"DEATH_EVENT\t\" or elemento==\"age\" or elemento==\"anaemia\" or elemento==\"creatinine_phosphokinase\" or elemento == \"diabetes\" or elemento == \"ejection_fraction\" or elemento == \"high_blood_pressure \" or elemento == \"platelets\" or elemento == \"serum_creatinine\" or elemento == \"serum_sodium\" or elemento == \"sex\"or elemento== \"smoking\" or elemento== \"time\" :\n",
        "   train_df[elemento] = train_df[elemento].astype('float')\n",
        "  else:\n",
        "   train_df[elemento] = (pd.Categorical(train_df[elemento])).codes.astype('float')\n",
        "\n",
        "# mostro il dataset dopo l'operazione\n",
        "train_df.head()"
      ],
      "execution_count": 30,
      "outputs": [
        {
          "output_type": "execute_result",
          "data": {
            "text/html": [
              "<div>\n",
              "<style scoped>\n",
              "    .dataframe tbody tr th:only-of-type {\n",
              "        vertical-align: middle;\n",
              "    }\n",
              "\n",
              "    .dataframe tbody tr th {\n",
              "        vertical-align: top;\n",
              "    }\n",
              "\n",
              "    .dataframe thead th {\n",
              "        text-align: right;\n",
              "    }\n",
              "</style>\n",
              "<table border=\"1\" class=\"dataframe\">\n",
              "  <thead>\n",
              "    <tr style=\"text-align: right;\">\n",
              "      <th></th>\n",
              "      <th>DEATH_EVENT</th>\n",
              "      <th>age</th>\n",
              "      <th>anaemia</th>\n",
              "      <th>creatinine_phosphokinase</th>\n",
              "      <th>diabetes</th>\n",
              "      <th>ejection_fraction</th>\n",
              "      <th>high_blood_pressure</th>\n",
              "      <th>platelets</th>\n",
              "      <th>serum_creatinine</th>\n",
              "      <th>serum_sodium</th>\n",
              "      <th>sex</th>\n",
              "      <th>smoking</th>\n",
              "      <th>time</th>\n",
              "    </tr>\n",
              "  </thead>\n",
              "  <tbody>\n",
              "    <tr>\n",
              "      <th>0</th>\n",
              "      <td>1.0</td>\n",
              "      <td>75.0</td>\n",
              "      <td>1.0</td>\n",
              "      <td>81.0</td>\n",
              "      <td>0.0</td>\n",
              "      <td>38.0</td>\n",
              "      <td>1.0</td>\n",
              "      <td>368000.0</td>\n",
              "      <td>4.0</td>\n",
              "      <td>131.0</td>\n",
              "      <td>1.0</td>\n",
              "      <td>1.0</td>\n",
              "      <td>10.0</td>\n",
              "    </tr>\n",
              "    <tr>\n",
              "      <th>1</th>\n",
              "      <td>0.0</td>\n",
              "      <td>50.0</td>\n",
              "      <td>0.0</td>\n",
              "      <td>1548.0</td>\n",
              "      <td>0.0</td>\n",
              "      <td>30.0</td>\n",
              "      <td>1.0</td>\n",
              "      <td>211000.0</td>\n",
              "      <td>0.8</td>\n",
              "      <td>138.0</td>\n",
              "      <td>1.0</td>\n",
              "      <td>0.0</td>\n",
              "      <td>108.0</td>\n",
              "    </tr>\n",
              "    <tr>\n",
              "      <th>2</th>\n",
              "      <td>0.0</td>\n",
              "      <td>58.0</td>\n",
              "      <td>1.0</td>\n",
              "      <td>133.0</td>\n",
              "      <td>0.0</td>\n",
              "      <td>60.0</td>\n",
              "      <td>1.0</td>\n",
              "      <td>219000.0</td>\n",
              "      <td>1.0</td>\n",
              "      <td>141.0</td>\n",
              "      <td>1.0</td>\n",
              "      <td>0.0</td>\n",
              "      <td>83.0</td>\n",
              "    </tr>\n",
              "    <tr>\n",
              "      <th>3</th>\n",
              "      <td>1.0</td>\n",
              "      <td>75.0</td>\n",
              "      <td>0.0</td>\n",
              "      <td>582.0</td>\n",
              "      <td>0.0</td>\n",
              "      <td>20.0</td>\n",
              "      <td>1.0</td>\n",
              "      <td>265000.0</td>\n",
              "      <td>1.9</td>\n",
              "      <td>130.0</td>\n",
              "      <td>1.0</td>\n",
              "      <td>0.0</td>\n",
              "      <td>4.0</td>\n",
              "    </tr>\n",
              "    <tr>\n",
              "      <th>4</th>\n",
              "      <td>1.0</td>\n",
              "      <td>80.0</td>\n",
              "      <td>1.0</td>\n",
              "      <td>553.0</td>\n",
              "      <td>0.0</td>\n",
              "      <td>20.0</td>\n",
              "      <td>1.0</td>\n",
              "      <td>140000.0</td>\n",
              "      <td>4.4</td>\n",
              "      <td>133.0</td>\n",
              "      <td>1.0</td>\n",
              "      <td>0.0</td>\n",
              "      <td>41.0</td>\n",
              "    </tr>\n",
              "  </tbody>\n",
              "</table>\n",
              "</div>"
            ],
            "text/plain": [
              "   DEATH_EVENT   age  anaemia  ...  sex  smoking   time\n",
              "0          1.0  75.0      1.0  ...  1.0      1.0   10.0\n",
              "1          0.0  50.0      0.0  ...  1.0      0.0  108.0\n",
              "2          0.0  58.0      1.0  ...  1.0      0.0   83.0\n",
              "3          1.0  75.0      0.0  ...  1.0      0.0    4.0\n",
              "4          1.0  80.0      1.0  ...  1.0      0.0   41.0\n",
              "\n",
              "[5 rows x 13 columns]"
            ]
          },
          "metadata": {
            "tags": []
          },
          "execution_count": 30
        }
      ]
    },
    {
      "cell_type": "markdown",
      "metadata": {
        "id": "d4nbe4sYhqKE",
        "colab_type": "text"
      },
      "source": [
        "Preparazione modello"
      ]
    },
    {
      "cell_type": "code",
      "metadata": {
        "id": "IW5RVOVqhqou",
        "colab_type": "code",
        "colab": {
          "base_uri": "https://localhost:8080/",
          "height": 153
        },
        "outputId": "20ea54ea-d001-4007-ef51-e36078686b1a"
      },
      "source": [
        "features =['age','anaemia','creatinine_phosphokinase','diabetes','ejection_fraction','high_blood_pressure','platelets','serum_creatinine','serum_sodium','sex','smoking','time']\n",
        "X = train_df[features]\n",
        "Y = train_df['DEATH_EVENT']\n",
        "X_test = test_df[features]\n",
        "Y_test =test_df['DEATH_EVENT']\n",
        "\n",
        "# Specify Model : viene utilizzato RandomForestCLaasifier\n",
        "#La foresta casuale, come suggerisce il nome, \n",
        "#è costituita da un gran numero di singoli alberi decisionali che operano come un insieme(differentemente per il DecisionTreeClassifier che opera su un albero di decisione).\n",
        "#Ogni singolo albero nella foresta casuale genera una previsione di classe basandosi sui suoi attributi ed esprime un voto per quella classe\n",
        "# e la classe con il maggior numero di voti diventa la previsione del nostro modello\n",
        "#Mentre alcuni alberi potrebbero essere sbagliati, molti altri alberi avranno ragione, quindi come gruppo gli alberi sono in grado di muoversi nella direzione corretta. \n",
        "#Le previsioni (e quindi gli errori) fatte dai singoli alberi devono avere basse correlazioni tra loro.\n",
        "\n",
        "model = RandomForestClassifier(random_state=1)\n",
        "model.fit(X,Y)"
      ],
      "execution_count": 31,
      "outputs": [
        {
          "output_type": "execute_result",
          "data": {
            "text/plain": [
              "RandomForestClassifier(bootstrap=True, ccp_alpha=0.0, class_weight=None,\n",
              "                       criterion='gini', max_depth=None, max_features='auto',\n",
              "                       max_leaf_nodes=None, max_samples=None,\n",
              "                       min_impurity_decrease=0.0, min_impurity_split=None,\n",
              "                       min_samples_leaf=1, min_samples_split=2,\n",
              "                       min_weight_fraction_leaf=0.0, n_estimators=100,\n",
              "                       n_jobs=None, oob_score=False, random_state=1, verbose=0,\n",
              "                       warm_start=False)"
            ]
          },
          "metadata": {
            "tags": []
          },
          "execution_count": 31
        }
      ]
    },
    {
      "cell_type": "markdown",
      "metadata": {
        "id": "LBSZFnyrh1t7",
        "colab_type": "text"
      },
      "source": [
        "Addestramento"
      ]
    },
    {
      "cell_type": "code",
      "metadata": {
        "id": "MZTu4Ep8h3CK",
        "colab_type": "code",
        "colab": {
          "base_uri": "https://localhost:8080/",
          "height": 34
        },
        "outputId": "7d038e9e-927c-4b5a-c49f-b8c3975f41b5"
      },
      "source": [
        "train_predictions = model.predict(X)\n",
        "train_acc = metrics.accuracy_score(Y,train_predictions)\n",
        "print('Accuracy train: %s'  % train_acc)"
      ],
      "execution_count": 32,
      "outputs": [
        {
          "output_type": "stream",
          "text": [
            "Accuracy train: 1.0\n"
          ],
          "name": "stdout"
        }
      ]
    },
    {
      "cell_type": "markdown",
      "metadata": {
        "id": "z_K3BjNliAmh",
        "colab_type": "text"
      },
      "source": [
        "Test"
      ]
    },
    {
      "cell_type": "code",
      "metadata": {
        "id": "T0Dy1xL5iBJq",
        "colab_type": "code",
        "colab": {
          "base_uri": "https://localhost:8080/",
          "height": 34
        },
        "outputId": "fd8cce2e-e5cb-47f3-b5e9-e097b9e1c05c"
      },
      "source": [
        "test_predictions = model.predict(X_test)\n",
        "test_acc=metrics.accuracy_score(Y_test,test_predictions)\n",
        "print('Accuracy test: %s'  % test_acc)"
      ],
      "execution_count": 33,
      "outputs": [
        {
          "output_type": "stream",
          "text": [
            "Accuracy test: 0.8541666666666666\n"
          ],
          "name": "stdout"
        }
      ]
    },
    {
      "cell_type": "markdown",
      "metadata": {
        "id": "KCcGGE0Tiwxa",
        "colab_type": "text"
      },
      "source": [
        "Creazione confusion matrix"
      ]
    },
    {
      "cell_type": "code",
      "metadata": {
        "id": "MiEkbecni07O",
        "colab_type": "code",
        "colab": {
          "base_uri": "https://localhost:8080/",
          "height": 51
        },
        "outputId": "24c8eaab-b59d-41af-9033-de1296c84387"
      },
      "source": [
        "conf_matr = confusion_matrix(Y_test, test_predictions, normalize=None)\n",
        "# Stampa della confusion matrix\n",
        "print(conf_matr)"
      ],
      "execution_count": 34,
      "outputs": [
        {
          "output_type": "stream",
          "text": [
            "[[29  2]\n",
            " [ 5 12]]\n"
          ],
          "name": "stdout"
        }
      ]
    },
    {
      "cell_type": "markdown",
      "metadata": {
        "id": "J1gwYYRR7Cz6",
        "colab_type": "text"
      },
      "source": [
        "Plot confusion matrix"
      ]
    },
    {
      "cell_type": "code",
      "metadata": {
        "id": "ReN6PvhT7HNG",
        "colab_type": "code",
        "colab": {
          "base_uri": "https://localhost:8080/",
          "height": 329
        },
        "outputId": "afe1e4cf-8c2c-4b04-a4cc-5d0b284e78f7"
      },
      "source": [
        "disp = plot_confusion_matrix(model, X_test, Y_test,\n",
        "                                 cmap=plt.cm.Blues)\n",
        "disp.ax_.set_title(\"Confusion Matrix \")\n",
        "\n",
        "\n",
        "\n",
        "print(disp.confusion_matrix)\n",
        "plt.show()"
      ],
      "execution_count": 35,
      "outputs": [
        {
          "output_type": "stream",
          "text": [
            "[[29  2]\n",
            " [ 5 12]]\n"
          ],
          "name": "stdout"
        },
        {
          "output_type": "display_data",
          "data": {
            "image/png": "[encoded data removed]",
            "text/plain": [
              "<Figure size 432x288 with 2 Axes>"
            ]
          },
          "metadata": {
            "tags": [],
            "needs_background": "light"
          }
        }
      ]
    },
    {
      "cell_type": "markdown",
      "metadata": {
        "id": "YpWkNR7iEfoc",
        "colab_type": "text"
      },
      "source": [
        "Conclusioni : non è possibile addestrare un modello che predice in maniera  corretta poichè il dataset contiene troppi pochi esempi. Inolre, mentre nell'accuracy train si produce il 100%, nell'operazione di test l'accuracy varia tra 81%-91% "
      ]
    }
  ]
}